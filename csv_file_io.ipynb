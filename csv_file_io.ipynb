{
 "cells": [
  {
   "cell_type": "code",
   "execution_count": 5,
   "metadata": {},
   "outputs": [],
   "source": [
    "import csv\n",
    "import os\n",
    "import numpy as np"
   ]
  },
  {
   "cell_type": "code",
   "execution_count": 6,
   "metadata": {},
   "outputs": [],
   "source": [
    "def check_dir(path=''):\n",
    "    \"\"\"\n",
    "    check the directories in path are exist or not, and make directories that are not exist\n",
    "    :param path: (file or dir) path\n",
    "    :return: None\n",
    "    \"\"\"\n",
    "    splitter = '/'\n",
    "    list_splitted_path = path.split(splitter)\n",
    "    path_root = list_splitted_path[0]\n",
    "    del(list_splitted_path[0])\n",
    "\n",
    "    for splitted_path in list_splitted_path:\n",
    "        target_dir = path_root + splitter + splitted_path\n",
    "\n",
    "        if not os.path.isdir(target_dir):\n",
    "            os.mkdir(target_dir)\n",
    "            path_root = target_dir\n",
    "        else:\n",
    "            path_root = target_dir"
   ]
  },
  {
   "cell_type": "code",
   "execution_count": 7,
   "metadata": {},
   "outputs": [],
   "source": [
    "def open_csv(file_path='', mode='', encoding='euc-kr'):\n",
    "    \"\"\"\n",
    "    open csv file using file path, and return the file pointer\n",
    "    :param file_path: file path\n",
    "    :param mode: mode  'w' for write, 'r' for read, 'a' for append, etc.\n",
    "    :param encoding: encoding - default : euc kr\n",
    "    :return: file pointer\n",
    "    \"\"\"\n",
    "    file_pointer = None\n",
    "    dir_path = file_path.replace(file_path.split('/')[-1], '')\n",
    "\n",
    "    if mode == 'w' or mode == 'a':\n",
    "        check_dir(dir_path)\n",
    "        file_pointer = open(file_path, mode, encoding=encoding, newline='')\n",
    "    elif mode == 'r':\n",
    "        file_pointer = open(file_path, mode, encoding=encoding)\n",
    "\n",
    "    return file_pointer"
   ]
  },
  {
   "cell_type": "code",
   "execution_count": 8,
   "metadata": {},
   "outputs": [],
   "source": [
    "def write_csv_data(file_pointer=None, data=None):\n",
    "    \"\"\"\n",
    "    write csv data row or rows on .csv file\n",
    "    :param file_pointer: file pointer\n",
    "    :param data: data to write\n",
    "    :return: True for successful writing / False for error in writing process\n",
    "    \"\"\"\n",
    "    if file_pointer is None:\n",
    "        print('Error : no file pointer is entered')\n",
    "        return False\n",
    "\n",
    "    wr = csv.writer(file_pointer)\n",
    "    arr_data = None\n",
    "\n",
    "    if type(data) == list:\n",
    "        arr_data = np.array(data)\n",
    "    elif type(data) == np.ndarray:\n",
    "        arr_data = data\n",
    "\n",
    "    if arr_data.ndim <= 0:\n",
    "        print('Error : data is not entered')\n",
    "        return False\n",
    "    elif arr_data.ndim == 1:\n",
    "        wr.writerow(arr_data)\n",
    "    else:\n",
    "        wr.writerows(arr_data)\n",
    "\n",
    "    return True"
   ]
  }
 ],
 "metadata": {
  "kernelspec": {
   "display_name": "base",
   "language": "python",
   "name": "python3"
  },
  "language_info": {
   "codemirror_mode": {
    "name": "ipython",
    "version": 3
   },
   "file_extension": ".py",
   "mimetype": "text/x-python",
   "name": "python",
   "nbconvert_exporter": "python",
   "pygments_lexer": "ipython3",
   "version": "3.8.15 (default, Nov  4 2022, 15:16:59) [MSC v.1916 64 bit (AMD64)]"
  },
  "orig_nbformat": 4,
  "vscode": {
   "interpreter": {
    "hash": "ad2bdc8ecc057115af97d19610ffacc2b4e99fae6737bb82f5d7fb13d2f2c186"
   }
  }
 },
 "nbformat": 4,
 "nbformat_minor": 2
}
