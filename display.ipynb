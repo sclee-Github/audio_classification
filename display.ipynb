{
 "cells": [
  {
   "cell_type": "code",
   "execution_count": null,
   "metadata": {},
   "outputs": [],
   "source": [
    "%matplotlib inline\n",
    "import sklearn\n",
    "import numpy as np\n",
    "import matplotlib.pyplot as plt\n",
    "\n",
    "import librosa\n",
    "import librosa.display\n",
    "\n",
    "import IPython.display as ipd\n",
    "\n",
    "import warnings\n",
    "warnings.filterwarnings('ignore')\n",
    "\n",
    "SAMPLE_RATE = 44100\n",
    "FIG_SIZE = (15,5)"
   ]
  },
  {
   "cell_type": "code",
   "execution_count": null,
   "metadata": {},
   "outputs": [],
   "source": [
    "def display_waveshow(signal, title=' '):\n",
    "    plt.figure(figsize=FIG_SIZE)\n",
    "    librosa.display.waveshow(signal, sr=SAMPLE_RATE)\n",
    "    plt.xlabel(\"Time (s)\")\n",
    "    plt.ylabel(\"Amplitude\")\n",
    "    plt.title(title)\n",
    "    plt.show()"
   ]
  },
  {
   "cell_type": "code",
   "execution_count": null,
   "metadata": {},
   "outputs": [],
   "source": [
    "def display_power_spectrum(signal, title=' '):\n",
    "    fft = np.fft.fft(signal)\n",
    "    magnitude = np.abs(fft)\n",
    "\n",
    "    freq = np.linspace(0, SAMPLE_RATE, len(magnitude))\n",
    "\n",
    "    left_spectrum = magnitude[:int(len(magnitude)/2)]\n",
    "    left_freq = freq[:int(len(magnitude)/2)]\n",
    "\n",
    "    mod_left_freq = left_freq[left_freq<8001]\n",
    "    mod_left_spectrum = left_spectrum[:len(mod_left_freq)]\n",
    "    # mod_left_spectrum = left_spectrum[:len(mod_left_freq)] / SAMPLE_RATE\n",
    "\n",
    "    plt.figure(figsize=FIG_SIZE)\n",
    "    plt.plot(mod_left_freq, mod_left_spectrum)\n",
    "    plt.xlabel(\"Frequency (Hz)\")\n",
    "    plt.ylabel(\"Power Spectral Density (mag.)\")\n",
    "    # plt.ylabel(\"Power Spectral Density (mag./Hz)\")\n",
    "    plt.title(title)\n",
    "    plt.show()"
   ]
  },
  {
   "cell_type": "code",
   "execution_count": null,
   "metadata": {},
   "outputs": [],
   "source": [
    "def display_mfccs(mfccs, title=' '):\n",
    "    plt.figure(figsize=FIG_SIZE)\n",
    "    # librosa.display.specshow(mfccs, sr=sr, hop_length=hop_length, x_axis='time')\n",
    "    librosa.display.specshow(mfccs, sr=SAMPLE_RATE)\n",
    "    plt.xlabel(\"Time\")\n",
    "    plt.ylabel(\"MFCC coefficients\")\n",
    "    plt.colorbar()\n",
    "    plt.title(title)\n",
    "    plt.tight_layout()\n",
    "    plt.show()"
   ]
  }
 ],
 "metadata": {
  "kernelspec": {
   "display_name": "base",
   "language": "python",
   "name": "python3"
  },
  "language_info": {
   "codemirror_mode": {
    "name": "ipython",
    "version": 3
   },
   "file_extension": ".py",
   "mimetype": "text/x-python",
   "name": "python",
   "nbconvert_exporter": "python",
   "pygments_lexer": "ipython3",
   "version": "3.8.15 (default, Nov  4 2022, 15:16:59) [MSC v.1916 64 bit (AMD64)]"
  },
  "orig_nbformat": 4,
  "vscode": {
   "interpreter": {
    "hash": "ad2bdc8ecc057115af97d19610ffacc2b4e99fae6737bb82f5d7fb13d2f2c186"
   }
  }
 },
 "nbformat": 4,
 "nbformat_minor": 2
}
